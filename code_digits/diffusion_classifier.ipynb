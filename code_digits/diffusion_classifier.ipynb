{
 "cells": [
  {
   "cell_type": "code",
   "execution_count": null,
   "id": "15dff61e-426c-43a2-b43a-f2358d2c0646",
   "metadata": {},
   "outputs": [],
   "source": [
    "from diffusion_conditional_masked import *\n",
    "from train import test_acc, source_domain_numpy, domain_test_numpy\n",
    "import matplotlib.pyplot as plt"
   ]
  },
  {
   "cell_type": "code",
   "execution_count": null,
   "id": "13f0c86a-157b-4522-b3d8-6c57be795b42",
   "metadata": {},
   "outputs": [],
   "source": [
    "# hardcoding these here\n",
    "seed = 0\n",
    "\n",
    "n_epoch = 100\n",
    "batch_size = 256\n",
    "n_T = 400 # 500\n",
    "device = \"cuda:2\"\n",
    "n_classes = 10 + 1\n",
    "target_domain_index = 1\n",
    "\n",
    "n_domains = 4\n",
    "n_feat = 128 # 128 ok, 256 better (but slower)\n",
    "lrate = 1e-4\n",
    "save_model = True\n",
    "save_dir = './data/diffusion_outputs_masked_Apr21/'\n",
    "ws_test = [0.0, 0.5, 2.0] # strength of generative guidance\n",
    "save_gif = False\n",
    "\n",
    "in_channels = 3 #1\n",
    "\n",
    "ddpm = DDPM(nn_model=ContextUnet(in_channels=in_channels, n_feat=n_feat, n_classes=n_classes, n_domains=n_domains), betas=(1e-4, 0.02), n_T=n_T, device=device, drop_prob=0.1)\n",
    "ddpm.to(device)\n",
    "\n",
    "ddpm.load_state_dict(torch.load('data/diffusion_outputs_masked/model_99.pth',map_location=device))"
   ]
  },
  {
   "cell_type": "code",
   "execution_count": null,
   "id": "4ea5d452-49bb-48ea-90e4-ed3c0d37ad63",
   "metadata": {},
   "outputs": [],
   "source": [
    "config = {'base_root':'../data', 'source_dataset':'mnist,svhn,syn_digits', 'target_dataset':'mnist', 'batch_size':32,\\\n",
    "             'resolution':28,'num_workers':4, 'seed':1, 'num_epochs': 100}\n",
    "\n",
    "#transforms_test = transforms.Compose([transforms.Resize(config['resolution']),transforms.ToTensor(),transforms.Normalize([0.5], [0.5])])\n",
    "transforms_test = transforms.Compose([transforms.Resize(config['resolution']),transforms.ToTensor()])\n",
    "\n",
    "test_set = domain_test_numpy(root= config['base_root'], root_t=config['target_dataset'], transform=transforms_test)\n",
    "test_loader = torch.utils.data.DataLoader(test_set, batch_size=config['batch_size'], shuffle=False, num_workers=config['num_workers'], pin_memory=True, worker_init_fn=np.random.seed, drop_last=True)\n",
    "\n",
    "\n"
   ]
  },
  {
   "cell_type": "code",
   "execution_count": null,
   "id": "07f7e946-9160-4b4f-ab13-bbbaa982c9c8",
   "metadata": {},
   "outputs": [],
   "source": [
    "with torch.no_grad():\n",
    "    for data in test_loader:\n",
    "        images, labels = data\n",
    "        # calculate outputs by running images through the network\n",
    "        #outputs = model(images)\n",
    "        break"
   ]
  },
  {
   "cell_type": "code",
   "execution_count": null,
   "id": "f7f449b8-ad80-4cc9-bc9a-9e0e056b3cb9",
   "metadata": {
    "jupyter": {
     "source_hidden": true
    },
    "scrolled": true
   },
   "outputs": [],
   "source": [
    "with torch.no_grad():\n",
    "    #acc = torch.zeros(len(images) * 11).to(device)\n",
    "    for sample in range(1000):\n",
    "        #print(sample)\n",
    "        #pseudo_labels = torch.ones(len(images), dtype=int) * try_label\n",
    "        #domains = torch.ones(len(images), dtype=int) * 0\n",
    "        \n",
    "        #images, pseudo_labels, domains = images.to(device), pseudo_labels.to(device), domains.to(device)\n",
    "        images = images.to(device)\n",
    "        out = ddpm(images, labels.to(device), torch.ones(len(images), dtype=int).to(device) * 0)\n",
    "        #loss = ((out[0] - out[1])**2).sum(dim=1).sum(dim=1).sum(dim=1)\n",
    "        #loss = ddpm.loss_mse(out[0], out[1])\n",
    "        print(out.mean())\n",
    "        #acc += loss"
   ]
  },
  {
   "cell_type": "code",
   "execution_count": null,
   "id": "939bf064-225c-4c70-a296-8a5d882c8f9b",
   "metadata": {},
   "outputs": [],
   "source": [
    "dic = {}\n",
    "#for try_label in range(10):\n",
    "    #print(try_label)\n",
    "ddpm.drop_prob = 0.0\n",
    "with torch.no_grad():\n",
    "    acc = torch.zeros(len(images) * 11).to(device)\n",
    "    for sample in tqdm(range(1000)):\n",
    "        #print(sample)\n",
    "        #pseudo_labels = torch.ones(len(images), dtype=int) * try_label\n",
    "        #domains = torch.ones(len(images), dtype=int) * 0\n",
    "        \n",
    "        #images, pseudo_labels, domains = images.to(device), pseudo_labels.to(device), domains.to(device)\n",
    "        images = images.to(device)\n",
    "        out = ddpm.forward_without_loss(images, 0)\n",
    "        loss = ((out[0] - out[1])**2).sum(dim=1).sum(dim=1).sum(dim=1)\n",
    "        #loss = ddpm.loss_mse(out[0], out[1])\n",
    "        #print(loss)\n",
    "        acc += loss"
   ]
  },
  {
   "cell_type": "code",
   "execution_count": null,
   "id": "9bb61242-eba5-44b8-87d7-e1409b4fe795",
   "metadata": {},
   "outputs": [],
   "source": [
    "correct = 0\n",
    "for i in range(32):\n",
    "    min_index = 0\n",
    "    min_val = acc[i* 10 ]\n",
    "    for try_label in range(10):\n",
    "        if(acc[i* 11 + try_label] < min_val):\n",
    "            min_val = acc[i* 11 + try_label]\n",
    "            min_index = try_label\n",
    "    correct += (min_index == int(labels[i]))\n",
    "    #print(min_index, labels[i])\n",
    "correct"
   ]
  },
  {
   "cell_type": "code",
   "execution_count": null,
   "id": "4ea14e73-2d4b-492a-835b-8fb7c5615411",
   "metadata": {},
   "outputs": [],
   "source": [
    "with torch.no_grad():\n",
    "    x_gen, _ = ddpm.sample(11 * 4, (3, 28, 28), device, guide_w = 2)"
   ]
  },
  {
   "cell_type": "code",
   "execution_count": null,
   "id": "bf6c6432-1477-4cbc-81cf-09ee334a624f",
   "metadata": {},
   "outputs": [],
   "source": [
    "index = 30\n",
    "img = x_gen[index]\n",
    "img = (img - img.min())/(img.max() - img.min())\n",
    "plt.imshow(img.permute(1,2,0).cpu())"
   ]
  },
  {
   "cell_type": "code",
   "execution_count": null,
   "id": "50c15bb8-3bb3-44da-8957-91f1af3e1a23",
   "metadata": {},
   "outputs": [],
   "source": [
    "import matplotlib.pyplot as plt\n",
    "index = 16\n",
    "print(labels[index])\n",
    "plt.imshow(images[index].permute(1,2,0).cpu())"
   ]
  },
  {
   "cell_type": "code",
   "execution_count": null,
   "id": "60e5ec60-cd3b-4874-8617-b1698f2f6673",
   "metadata": {},
   "outputs": [],
   "source": [
    "acc[11:22]"
   ]
  },
  {
   "cell_type": "code",
   "execution_count": null,
   "id": "1acad568-f617-4659-8e6b-c83195ee7a3a",
   "metadata": {},
   "outputs": [],
   "source": []
  },
  {
   "cell_type": "code",
   "execution_count": null,
   "id": "579fb15c-71fa-48ea-b2c9-6e9e138e9191",
   "metadata": {
    "jupyter": {
     "source_hidden": true
    }
   },
   "outputs": [],
   "source": [
    "#self.n_classes\n",
    "x = images\n",
    "n_classes = 10\n",
    "domain = 0\n",
    "\n",
    "images.shape\n",
    "c = torch.arange(n_classes, dtype=int).repeat(len(x))\n",
    "d = torch.ones(len(c), dtype=int) * domain\n",
    "noise = torch.randn_like(x) "
   ]
  },
  {
   "cell_type": "code",
   "execution_count": null,
   "id": "3a4deb8c-7cc2-4162-a2da-2b2b7837ffed",
   "metadata": {},
   "outputs": [],
   "source": [
    "_ts = torch.randint(1, self.n_T+1, (x.shape[0],)).to(self.device) \n",
    "_ts.shape"
   ]
  },
  {
   "cell_type": "code",
   "execution_count": null,
   "id": "4faabe3d-b0ae-4889-8768-19f45e48f206",
   "metadata": {},
   "outputs": [],
   "source": [
    "torch.arange(n_classes).repeat_interleave(2)"
   ]
  },
  {
   "cell_type": "code",
   "execution_count": null,
   "id": "81acb4af-4a07-4695-86af-fa58be56d204",
   "metadata": {},
   "outputs": [],
   "source": [
    "noise = noise.repeat_interleave(n_classes)\n",
    "x = x.repeat_interleave(n_classes)"
   ]
  },
  {
   "cell_type": "code",
   "execution_count": null,
   "id": "efd30d47-f61f-4feb-930f-05a371b887ea",
   "metadata": {},
   "outputs": [],
   "source": [
    "dic = {}\n",
    "for try_label in range(10):\n",
    "    print(try_label)\n",
    "    with torch.no_grad():\n",
    "        dic[try_label] = torch.zeros(len(images)).to(device)\n",
    "        for sample in range(100):\n",
    "            pseudo_labels = torch.ones(len(images), dtype=int) * try_label\n",
    "            domains = torch.ones(len(images), dtype=int) * 0\n",
    "            \n",
    "            images, pseudo_labels, domains = images.to(device), pseudo_labels.to(device), domains.to(device)\n",
    "            out = ddpm.forward_without_loss(images, pseudo_labels, domains)\n",
    "            loss = ((out[0] - out[1])**2).sum(dim=1).sum(dim=1).sum(dim=1)\n",
    "            dic[try_label] += loss"
   ]
  },
  {
   "cell_type": "code",
   "execution_count": null,
   "id": "c70aa66f-b0f8-4d08-8ffd-04ab44b6684c",
   "metadata": {
    "scrolled": true
   },
   "outputs": [],
   "source": [
    "for i in range(256):\n",
    "    min_index = 0\n",
    "    min_val = dic[0][i]\n",
    "    for try_label in range(10):\n",
    "        if(dic[try_label][i] < min_val):\n",
    "            min_val = dic[try_label][i]\n",
    "            min_index = try_label\n",
    "    print(min_index, labels[i])"
   ]
  },
  {
   "cell_type": "code",
   "execution_count": null,
   "id": "a7949fe1-1082-42f1-9b10-ce10ae37aa0a",
   "metadata": {},
   "outputs": [],
   "source": [
    "for i in range(10):\n",
    "    print(dic[i][0])"
   ]
  },
  {
   "cell_type": "code",
   "execution_count": null,
   "id": "9ec7212d-edce-42da-b4b3-b568656d8fb9",
   "metadata": {},
   "outputs": [],
   "source": [
    "loss[labels == 2].mean()"
   ]
  },
  {
   "cell_type": "code",
   "execution_count": null,
   "id": "69bbcae0-c04e-4ea4-adfe-9f92020a650e",
   "metadata": {},
   "outputs": [],
   "source": [
    "domains"
   ]
  }
 ],
 "metadata": {
  "kernelspec": {
   "display_name": "Python 3 (ipykernel)",
   "language": "python",
   "name": "python3"
  },
  "language_info": {
   "codemirror_mode": {
    "name": "ipython",
    "version": 3
   },
   "file_extension": ".py",
   "mimetype": "text/x-python",
   "name": "python",
   "nbconvert_exporter": "python",
   "pygments_lexer": "ipython3",
   "version": "3.11.4"
  }
 },
 "nbformat": 4,
 "nbformat_minor": 5
}
