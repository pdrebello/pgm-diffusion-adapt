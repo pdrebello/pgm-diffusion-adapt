{
 "cells": [
  {
   "cell_type": "code",
   "execution_count": null,
   "id": "9b82812a-3e42-4a7b-b9b2-5fb503f1bf0f",
   "metadata": {},
   "outputs": [],
   "source": [
    "import os\n",
    "os.environ[\"http_proxy\"] = \"http://proxy.cmu.edu:3128\"\n",
    "os.environ[\"https_proxy\"] = \"http://proxy.cmu.edu:3128\"\n",
    "from torchmetrics.image.fid import FrechetInceptionDistance\n",
    "from train import test_acc, domain_test_numpy, source_domain_numpy\n",
    "from torchvision import transforms\n",
    "from torch.utils.data import DataLoader\n",
    "from tqdm import tqdm\n",
    "\n"
   ]
  },
  {
   "cell_type": "code",
   "execution_count": null,
   "id": "3dfaea3e-2b33-49fc-afe6-62932b6e60d1",
   "metadata": {},
   "outputs": [],
   "source": [
    "device = \"cuda:0\"\n",
    "\n",
    "\n",
    "config = {'base_root':'../data', 'source_dataset':'mnist,svhn,syn_digits', 'target_dataset':'mnist_m', 'batch_size':256,\\\n",
    "             'resolution':28,'num_workers':4, 'seed':1, 'num_epochs': 100}\n",
    "\n",
    "transforms_test = transforms.Compose([transforms.Resize(28),transforms.ToTensor(),transforms.Normalize([0.5], [0.5])])\n",
    "real_set = source_domain_numpy(root= config['base_root'], root_list='mnist_m', transform=transforms_test)\n",
    "real_loader = DataLoader(real_set, batch_size=config['batch_size'], shuffle=True, num_workers=5)"
   ]
  },
  {
   "cell_type": "code",
   "execution_count": null,
   "id": "817a75f1-2ea5-49c6-9aa2-db22066b13cc",
   "metadata": {},
   "outputs": [],
   "source": [
    "fake_set = source_domain_numpy(root= config['base_root'], root_list='mnist_m', transform=transforms_test)\n",
    "fake_loader = DataLoader(real_set, batch_size=config['batch_size'], shuffle=True, num_workers=5)\n"
   ]
  },
  {
   "cell_type": "code",
   "execution_count": null,
   "id": "bc99cd2d-61c6-49f4-a11a-8295aea9b49d",
   "metadata": {},
   "outputs": [],
   "source": [
    "fid = FrechetInceptionDistance(normalize=True).to(device)\n",
    "\n",
    "\n",
    "for data, data2 in tqdm(zip(real_loader, fake_loader)):\n",
    "    img, labels, domain = data\n",
    "    img2, labels, domain = data2\n",
    "    fid.update(img.to(device), real=True)\n",
    "    fid.update(img2.to(device), real=False)\n",
    "\n",
    "#for data in tqdm(real_loader):\n",
    "#    img, labels, domain = data\n",
    "#    fid.update(img.to(device), real=False)\n",
    "\n",
    "print(f\"FID: {float(fid.compute())}\")"
   ]
  },
  {
   "cell_type": "code",
   "execution_count": null,
   "id": "d7091d0e-546b-4f5a-a679-3dd056015bd8",
   "metadata": {},
   "outputs": [],
   "source": []
  }
 ],
 "metadata": {
  "kernelspec": {
   "display_name": "Python 3 (ipykernel)",
   "language": "python",
   "name": "python3"
  },
  "language_info": {
   "codemirror_mode": {
    "name": "ipython",
    "version": 3
   },
   "file_extension": ".py",
   "mimetype": "text/x-python",
   "name": "python",
   "nbconvert_exporter": "python",
   "pygments_lexer": "ipython3",
   "version": "3.11.4"
  }
 },
 "nbformat": 4,
 "nbformat_minor": 5
}
