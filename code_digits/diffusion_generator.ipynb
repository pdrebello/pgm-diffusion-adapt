{
 "cells": [
  {
   "cell_type": "code",
   "execution_count": null,
   "id": "a376c85e-d40b-4208-b24c-408764322ee8",
   "metadata": {},
   "outputs": [],
   "source": [
    "from diffusion_conditional_masked import *"
   ]
  },
  {
   "cell_type": "code",
   "execution_count": null,
   "id": "00704c8b-e911-4871-a8e1-dc2631e3c2fe",
   "metadata": {},
   "outputs": [],
   "source": [
    "# hardcoding these here\n",
    "seed = 0\n",
    "\n",
    "n_epoch = 100\n",
    "batch_size = 256\n",
    "n_T = 400 # 500\n",
    "device = \"cuda:3\"\n",
    "n_classes = 10 + 1\n",
    "target_domain_index = 1\n",
    "\n",
    "n_domains = 4\n",
    "n_feat = 128 # 128 ok, 256 better (but slower)\n",
    "lrate = 1e-4\n",
    "save_model = True\n",
    "save_dir = './data/diffusion_outputs_masked/'\n",
    "ws_test = [0.0, 0.5, 2.0] # strength of generative guidance\n",
    "save_gif = False\n",
    "\n",
    "in_channels = 3 #1\n",
    "\n",
    "ddpm = DDPM(nn_model=ContextUnet(in_channels=in_channels, n_feat=n_feat, n_classes=n_classes, n_domains=n_domains), betas=(1e-4, 0.02), n_T=n_T, device=device, drop_prob=0.1)\n",
    "ddpm.to(device)\n",
    "\n",
    "ddpm.load_state_dict(torch.load('data/diffusion_outputs_masked/model_99.pth',map_location=device))"
   ]
  },
  {
   "cell_type": "code",
   "execution_count": null,
   "id": "dc35e403-308e-4cad-b2e6-918ecb60b311",
   "metadata": {},
   "outputs": [],
   "source": [
    "#ws_test = [0.0, 0.5, 2.0]\n",
    "batch_size = 32\n",
    "n_sample = n_classes * batch_size #n_domains\n",
    "req_size = 10 * 32 #25000 #n_sample - batch_size #20000\n",
    "ddpm.eval()\n",
    "x_gen_all = []\n",
    "with torch.no_grad():\n",
    "    w = 2\n",
    "    for itr in tqdm(range(int(req_size/(n_sample - batch_size)))):\n",
    "        x_gen, _ = ddpm.sample_from_one_domain(n_sample, (in_channels, 28, 28), target_domain = 1, device=device, guide_w=random.uniform(0, 10))\n",
    "        x_gen_all.append(x_gen)"
   ]
  },
  {
   "cell_type": "code",
   "execution_count": null,
   "id": "3b7f1eca-8f66-4a21-a5d1-2934dde3edac",
   "metadata": {},
   "outputs": [],
   "source": [
    "synthetic_images = torch.concat(x_gen_all, axis=0)\n",
    "labels = torch.tensor([i for j in range(int(len(synthetic_images)/n_classes)) for i in range(n_classes) ])\n",
    "synthetic_images_filtered, labels_filtered = synthetic_images[labels != n_classes-1], labels[labels != n_classes-1]\n",
    "\n",
    "synthetic_images_filtered = synthetic_images_filtered.permute(0, 2, 3, 1)\n",
    "synthetic_images_filtered_32 = np.stack(np.array([Image.fromarray((img.cpu().detach().numpy() * 255).astype(np.uint8)).resize(size=(32, 32)) for img in synthetic_images_filtered]))\n",
    "\n"
   ]
  },
  {
   "cell_type": "code",
   "execution_count": null,
   "id": "a6cb988a-240c-45eb-80dd-d314df676b72",
   "metadata": {},
   "outputs": [],
   "source": [
    "import matplotlib.pyplot as plt\n",
    "from matplotlib.pyplot import figure\n",
    "figure(figsize=(13, 10))\n",
    "for j in range(4):\n",
    "    for i in range(10):\n",
    "        plt.subplot(8,10,  j*10 + i+1)\n",
    "        jj = j\n",
    "        img = synthetic_images_filtered_32[jj*10 + i] #.cpu().detach().numpy()\n",
    "        \n",
    "        #img = (img*-1)+1\n",
    "        #plt.title((y[j*10 + i].detach().cpu().item(), yd[j*10 + i].detach().cpu().item()))\n",
    "        img = (img - img.min())/(img.max() - img.min())\n",
    "        #img = img.detach().cpu().numpy().transpose(1, 2, 0)\n",
    "        plt.axis(\"off\")\n",
    "        plt.imshow(img)\n",
    "plt.subplots_adjust(wspace=0, hspace=0)\n",
    "#plt.savefig(\"F_syn.png\")"
   ]
  },
  {
   "cell_type": "code",
   "execution_count": null,
   "id": "b74c8508-be20-49a1-93ca-db9028595cef",
   "metadata": {},
   "outputs": [],
   "source": [
    "\n",
    "with torch.no_grad():\n",
    "    x_gen, _ = ddpm.sample(n_classes * n_domains, (in_channels, 28, 28), device, guide_w = 2)\n",
    "    #x_gen, x_gen_store = ddpm.sample(n_sample, (in_channels, 28, 28), device, guide_w=w)\n",
    "    #x_gen, _ = ddpm.sample_from_one_domain(n_classes * n_domains, (in_channels, 28, 28), target_domain = 1, device=device, guide_w=2)"
   ]
  },
  {
   "cell_type": "code",
   "execution_count": null,
   "id": "f7e9d54f-9b19-4c3e-b655-ba2227478be2",
   "metadata": {},
   "outputs": [],
   "source": [
    "imgages, labels = torch.load(\"../data/mnist_m_synthetic/MNIST_M_SYNTHETIC_train.pt\")\n",
    "img.shape"
   ]
  },
  {
   "cell_type": "code",
   "execution_count": null,
   "id": "b78813d3-7e00-4ea0-ac28-5035d4d3019a",
   "metadata": {
    "scrolled": true
   },
   "outputs": [],
   "source": [
    "aa = x_gen[14].permute(1, 2, 0).clone().detach().cpu().numpy()\n",
    "aa = aa*-1 + 1\n",
    "aa = (aa - 0.5)\n",
    "print(aa.min(), aa.max())\n",
    "plt.imshow(aa)"
   ]
  },
  {
   "cell_type": "code",
   "execution_count": null,
   "id": "efe252d3-caae-4954-b465-a6b516176a3d",
   "metadata": {
    "jupyter": {
     "source_hidden": true
    }
   },
   "outputs": [],
   "source": [
    "from matplotlib.pyplot import figure\n",
    "from PIL import Image\n",
    "figure(figsize=(15, 2*8))\n",
    "for j in range(4):\n",
    "    for i in range(11):\n",
    "        plt.subplot(8,11,  j*11 + i+1)\n",
    "        #img = img[j*11 + i].permute(1, 2, 0).clone().detach().cpu().numpy()\n",
    "        img = x_gen[j*11 + i].permute(1, 2, 0).clone().detach().cpu().numpy()\n",
    "        #img = imgages[j*11 + i]\n",
    "        #print(img.min(), img.max())\n",
    "        img = img*-1 + 1\n",
    "        img = (img * 255).astype(np.uint8)\n",
    "        #img = img - img.min()\n",
    "        #print(img.min(), img.max())\n",
    "        #for i in range(3):\n",
    "        #    img[:,:,i] = (img[:,:,i] - img[:,:,i].min())/(img[:,:,i].max() - img[:,:,i].min())\n",
    "        #print(aa[:,:,0].min(), aa[:,:,0].max())\n",
    "        #print(aa[:,:,1].min(), aa[:,:,1].max())\n",
    "        #print(aa[:,:,2].min(), aa[:,:,2].max())\n",
    "        #img = x_gen_copy[j*11 + i].permute(1, 2, 0).cpu().detach().numpy()\n",
    "        #img = np.array(bigimg)[j*32:(j+1)*32, i*32:(i+1)*32]\n",
    "        #print(img.shape)\n",
    "        #img = np.array(Image.fromarray((img.cpu().detach().numpy() * 255)).astype(np.uint8)).resize(size=(32, 32))\n",
    "        #img = (img - img.min())/(img.max() - img.min())\n",
    "        #img = (img.cpu().detach().numpy() * 255).astype(np.uint8) #.shape\n",
    "        \n",
    "        #plt.title(labels_filtered[j*11 + i])\n",
    "        #img = (img - img.min())/(img.max() - img.min())\n",
    "        #img = img\n",
    "        plt.imshow(img)"
   ]
  },
  {
   "cell_type": "code",
   "execution_count": null,
   "id": "f71cbfc7-15af-439d-b4d8-1125b408b6fa",
   "metadata": {},
   "outputs": [],
   "source": [
    "from torchvision.utils import save_image, make_grid, save_image\n",
    "grid = make_grid(x_gen * (-1) + 1, nrow=11)"
   ]
  },
  {
   "cell_type": "code",
   "execution_count": null,
   "id": "04f5ca5b-4842-4bef-bb0a-5e4471bea9ea",
   "metadata": {},
   "outputs": [],
   "source": [
    "save_image(grid, \"test.png\")"
   ]
  },
  {
   "cell_type": "code",
   "execution_count": null,
   "id": "6c12aaa6-9044-466a-9d7c-bcdabfa36f4c",
   "metadata": {},
   "outputs": [],
   "source": []
  },
  {
   "cell_type": "code",
   "execution_count": null,
   "id": "7217e111-e486-4f00-8ea4-e435a3d93147",
   "metadata": {},
   "outputs": [],
   "source": [
    "bigimg = Image.open(\"data/diffusion_outputs_masked/image_ep99_w2.0.png\")\n",
    "bigimg = bigimg.resize(( 28*11 + 12, 28 * 32 + 29))"
   ]
  },
  {
   "cell_type": "code",
   "execution_count": null,
   "id": "2208c28b-f012-4b24-a87a-1293401d884a",
   "metadata": {},
   "outputs": [],
   "source": [
    "imgages, labels = torch.load(\"../data/mnist_m/MNIST_M_SYNTHETIC_train.pt\")\n"
   ]
  },
  {
   "cell_type": "code",
   "execution_count": null,
   "id": "66c29913-ab18-46eb-9e99-fe03bcdf0891",
   "metadata": {},
   "outputs": [],
   "source": [
    "from matplotlib.pyplot import figure\n",
    "from PIL import Image\n",
    "figure(figsize=(13, 10))\n",
    "for j in range(4):\n",
    "    for i in range(10):\n",
    "        plt.subplot(8,10,  j*10 + i+1)\n",
    "        #img = x_gen_copy[j*11 + i].permute(1, 2, 0).cpu().detach().numpy()\n",
    "        #img = np.array(bigimg)[j*32:(j+1)*32, i*32:(i+1)*32]\n",
    "        \n",
    "\n",
    "        plt.subplot(8,10,  j*10 + i+1)\n",
    "        jj = j\n",
    "        if(j == 1):\n",
    "            jj = 3\n",
    "        if(j == 3):\n",
    "            jj = 1\n",
    "        jj += 20\n",
    "        #img = out[jj*10 + i] #.cpu().detach().numpy()\n",
    "        #img = (img*-1)+1\n",
    "        #plt.title((y[j*10 + i].detach().cpu().item(), yd[j*10 + i].detach().cpu().item()))\n",
    "        #img = (img - img.min())/(img.max() - img.min())\n",
    "        #img = img.detach().cpu().numpy().transpose(1, 2, 0)\n",
    "\n",
    "        mult = 28\n",
    "        img = np.array(bigimg)[jj*mult + jj+1:(jj+1)*mult +jj+1, i*mult + (i+1):(i+1)*mult + (i+1)]\n",
    "        img = np.array(Image.fromarray(img).resize((36,36)))\n",
    "        #if(jj == 20):\n",
    "        #    img = 1-img\n",
    "        plt.axis(\"off\")\n",
    "        plt.imshow(img)\n",
    "        \n",
    "        plt.imshow(img[1:33, 1:33, :])\n",
    "        #plt.imshow(img)\n",
    "plt.subplots_adjust(wspace=0, hspace=0)\n",
    "#plt.savefig(\"real.png\")"
   ]
  },
  {
   "cell_type": "code",
   "execution_count": null,
   "id": "1d87fcb9-6fb3-4755-86f7-a56771131c21",
   "metadata": {},
   "outputs": [],
   "source": [
    "x_gen_copy = x_gen.clone()\n",
    "img = x_gen_copy[0*11 + i].permute(1, 2, 0)\n",
    "#img = (img*-1)+1\n",
    "img = (img - img.min())/(img.max() - img.min())\n",
    "img.min(), img.max()"
   ]
  },
  {
   "cell_type": "code",
   "execution_count": null,
   "id": "a40157bb-ef5f-4984-8b8f-3fdbc0524924",
   "metadata": {},
   "outputs": [],
   "source": [
    "img.min(), img.max()"
   ]
  },
  {
   "cell_type": "code",
   "execution_count": null,
   "id": "214c5f6d-f369-4754-86c4-6e8e18bf3040",
   "metadata": {},
   "outputs": [],
   "source": [
    "x_gen_copy = x_gen.clone()\n",
    "\n",
    "from matplotlib.pyplot import figure\n",
    "from PIL import Image\n",
    "figure(figsize=(15, 2*8))\n",
    "for j in range(4):\n",
    "    for i in range(11):\n",
    "        plt.subplot(8,11,  j*11 + i+1)\n",
    "        img = x_gen_copy[j*11 + i].permute(1, 2, 0).cpu().detach().numpy()\n",
    "        img = (img*-1)+1\n",
    "        #print(img.shape)\n",
    "        #img = np.array(Image.fromarray((img.cpu().detach().numpy() * 255)).astype(np.uint8)).resize(size=(32, 32))\n",
    "        #img = (img - img.min())/(img.max() - img.min())\n",
    "        #img = (img.cpu().detach().numpy() * 255).astype(np.uint8) #.shape\n",
    "        \n",
    "        #plt.title(labels_filtered[j*11 + i])\n",
    "        img = (img - img.min())/(img.max() - img.min())\n",
    "        #img = img\n",
    "        plt.imshow(img)"
   ]
  },
  {
   "cell_type": "code",
   "execution_count": null,
   "id": "fc594128-3874-457e-9ee9-8475b6e56dc2",
   "metadata": {},
   "outputs": [],
   "source": []
  },
  {
   "cell_type": "code",
   "execution_count": null,
   "id": "412ad656-f8d3-4937-b1a5-bce4190d18b8",
   "metadata": {},
   "outputs": [],
   "source": [
    "import matplotlib.pyplot as plt\n",
    "from matplotlib.pyplot import figure\n",
    "figure(figsize=(13, 10))\n",
    "for j in range(4):\n",
    "    for i in range(10):\n",
    "        plt.subplot(8,10,  j*10 + i+1)\n",
    "        jj = j\n",
    "        if(j == 1):\n",
    "            jj = 3\n",
    "        if(j == 3):\n",
    "            jj = 1\n",
    "        img = x_gen[jj*10 + i] #.cpu().detach().numpy()\n",
    "        \n",
    "        img = (img*-1)+1\n",
    "        #plt.title((y[j*10 + i].detach().cpu().item(), yd[j*10 + i].detach().cpu().item()))\n",
    "        img = (img - img.min())/(img.max() - img.min())\n",
    "        img = img.detach().cpu().numpy().transpose(1, 2, 0)\n",
    "        plt.axis(\"off\")\n",
    "        plt.imshow(img)\n",
    "plt.subplots_adjust(wspace=0, hspace=0)\n",
    "plt.savefig(\"F_syn.png\")"
   ]
  },
  {
   "cell_type": "code",
   "execution_count": null,
   "id": "50f2b17a-34fa-45d6-81df-fdbbd818d5e3",
   "metadata": {
    "jupyter": {
     "source_hidden": true
    }
   },
   "outputs": [],
   "source": [
    "ws_test = [0.0, 0.5, 2.0]\n",
    "n_sample = n_classes * 2 *n_domains\n",
    "with torch.no_grad():\n",
    "    x_gen, x_gen_store = ddpm.sample(n_sample, (in_channels, 28, 28), device, guide_w=2.0)\n",
    "#x_gen, x_gen_store = ddpm.sample_from_one_domain(n_sample, (in_channels, 28, 28), target_domain = 1, device=device, guide_w=2)"
   ]
  },
  {
   "cell_type": "code",
   "execution_count": null,
   "id": "9d8ce489-e690-4350-b688-f47bebda6b49",
   "metadata": {
    "jupyter": {
     "source_hidden": true
    }
   },
   "outputs": [],
   "source": [
    "transforms_train = transforms.Compose([transforms.Resize(28),transforms.ToTensor()])\n",
    "dataset = source_domain_numpy(root=\"../data\", root_list='mnist,mnist_m,svhn,syn_digits', transform=transforms_train)"
   ]
  },
  {
   "cell_type": "code",
   "execution_count": null,
   "id": "5b41e897-3217-496b-ae46-9622c406f0c7",
   "metadata": {
    "jupyter": {
     "source_hidden": true
    }
   },
   "outputs": [],
   "source": [
    "from matplotlib.pyplot import figure\n",
    "figure(figsize=(15, 2*8))\n",
    "for j in range(8):\n",
    "    for i in range(11):\n",
    "        plt.subplot(8,11,  j*11 + i+1)\n",
    "        img = dataset[j*11 + i][0].cpu().detach().numpy()\n",
    "        img = (img - img.min())/(img.max() - img.min())\n",
    "        img = img.transpose(1, 2, 0)\n",
    "        plt.imshow(img)"
   ]
  },
  {
   "cell_type": "code",
   "execution_count": null,
   "id": "b54ebee7-4a3e-4d18-a70f-0435a1f5f6cd",
   "metadata": {},
   "outputs": [],
   "source": [
    "from matplotlib.pyplot import figure\n",
    "figure(figsize=(15, 2*8))\n",
    "for j in range(8):\n",
    "    for i in range(11):\n",
    "        plt.subplot(8,11,  j*11 + i+1)\n",
    "        img = x_gen[j*11 + i].cpu().detach().numpy()\n",
    "        img = (img*-1)+1\n",
    "        img = (img - img.min())/(img.max() - img.min())\n",
    "        img = img.transpose(1, 2, 0)\n",
    "        plt.imshow(img)"
   ]
  },
  {
   "cell_type": "code",
   "execution_count": null,
   "id": "fc4d9545-861b-46de-874a-9d45541d1b5c",
   "metadata": {},
   "outputs": [],
   "source": [
    "#save_path = \"../data/mnist_m_synthetic/MNIST_M_SYNTHETIC_train.pt\"\n",
    "save_path = \"../data/mnist_m_synthetic_uniformw/MNIST_M_SYNTHETIC_UNIFORMW_train.pt\"\n",
    "torch.save([synthetic_images_filtered_32, labels_filtered.cpu().detach().numpy()], save_path)"
   ]
  },
  {
   "cell_type": "code",
   "execution_count": null,
   "id": "3f458cd8-f2bc-4055-aa36-32128b3983bb",
   "metadata": {},
   "outputs": [],
   "source": [
    "from matplotlib.pyplot import figure\n",
    "figure(figsize=(15, 2*8))\n",
    "for j in range(8):\n",
    "    for i in range(11):\n",
    "        plt.subplot(8,11,  j*11 + i+1)\n",
    "        img = synthetic_images_filtered_32[j*11 + i] #.cpu().detach().numpy()\n",
    "        img = (img*-1)+1\n",
    "        plt.title(labels_filtered[j*11 + i])\n",
    "        img = (img - img.min())/(img.max() - img.min())\n",
    "        #img = img.transpose(1, 2, 0)\n",
    "        plt.imshow(img)"
   ]
  },
  {
   "cell_type": "code",
   "execution_count": null,
   "id": "edb17298-e5fd-45ec-af19-56e116f04a36",
   "metadata": {},
   "outputs": [],
   "source": [
    "import torch \n",
    "\n",
    "aa = torch.zeros((10, 5, 4, 3))"
   ]
  },
  {
   "cell_type": "code",
   "execution_count": null,
   "id": "6b397225-735d-46dc-8123-03aee25fa8dc",
   "metadata": {},
   "outputs": [],
   "source": [
    "aa.unsqueeze(1).shape"
   ]
  },
  {
   "cell_type": "code",
   "execution_count": null,
   "id": "67aae7c2-6475-4043-96c1-86cff120e960",
   "metadata": {},
   "outputs": [],
   "source": []
  }
 ],
 "metadata": {
  "kernelspec": {
   "display_name": "Python 3 (ipykernel)",
   "language": "python",
   "name": "python3"
  },
  "language_info": {
   "codemirror_mode": {
    "name": "ipython",
    "version": 3
   },
   "file_extension": ".py",
   "mimetype": "text/x-python",
   "name": "python",
   "nbconvert_exporter": "python",
   "pygments_lexer": "ipython3",
   "version": "3.11.4"
  }
 },
 "nbformat": 4,
 "nbformat_minor": 5
}
