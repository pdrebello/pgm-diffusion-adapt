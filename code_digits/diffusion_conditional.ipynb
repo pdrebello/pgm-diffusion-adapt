{
 "cells": [
  {
   "cell_type": "code",
   "execution_count": null,
   "id": "d00b6aa9-2f5d-4084-b4a1-c059f9029ca8",
   "metadata": {},
   "outputs": [],
   "source": [
    "from script_c import *"
   ]
  },
  {
   "cell_type": "code",
   "execution_count": null,
   "id": "ea8d6e96-f033-4943-98c9-7641347aae70",
   "metadata": {},
   "outputs": [],
   "source": [
    "datasets = [MNIST_like(\"../data/\", dataset=dataset_name, train=True, download=False, transform=tf) for dataset_name in dataset_names]"
   ]
  },
  {
   "cell_type": "code",
   "execution_count": null,
   "id": "52d862d2-5b82-46ae-944c-9030aa1b648a",
   "metadata": {},
   "outputs": [],
   "source": [
    "[dataset.data.shape for dataset in datasets]"
   ]
  },
  {
   "cell_type": "code",
   "execution_count": null,
   "id": "d7cc716f-0392-4566-bc07-880f119e9e96",
   "metadata": {},
   "outputs": [],
   "source": [
    "import sys\n",
    "#sys.path.append(\"..\")\n",
    "#sys.path.append(\"../code_digits/\")\n",
    "from train import source_domain_numpy\n",
    "from torchvision import models, transforms\n",
    "from torch.utils.data import DataLoader\n",
    "\n",
    "transforms_train = transforms.Compose([transforms.Resize(28),transforms.ToTensor(),transforms.Normalize([0.5], [0.5])])\n",
    "\n",
    "dataset = source_domain_numpy(root=\"../data\", root_list='mnist,mnist_m,svhn,syn_digits', transform=transforms_train)"
   ]
  },
  {
   "cell_type": "code",
   "execution_count": null,
   "id": "1a6787d5-5598-493d-9724-8155c3892557",
   "metadata": {},
   "outputs": [],
   "source": [
    "#loaders = torch.utils.data.DataLoader(data_set, batch_size=256, shuffle=True,\n",
    "#       num_workers=config['num_workers'],\n",
    "#       pin_memory=True,\n",
    "#       worker_init_fn=np.random.seed,drop_last=True)\n",
    "batch_size=256\n",
    "dataloader = DataLoader(dataset, batch_size=batch_size, shuffle=True, num_workers=5)"
   ]
  },
  {
   "cell_type": "code",
   "execution_count": null,
   "id": "5043e8fc-f598-450d-ba55-ae7cb9a448bd",
   "metadata": {},
   "outputs": [],
   "source": [
    "pbar = dataloader\n",
    "loss_ema = None\n",
    "for x, c, d in pbar:\n",
    "    break"
   ]
  },
  {
   "cell_type": "code",
   "execution_count": null,
   "id": "bcfabd63-b73d-4cb1-aaf2-a5a644311a51",
   "metadata": {},
   "outputs": [],
   "source": [
    "n_epoch = 100\n",
    "batch_size = 256\n",
    "n_T = 400 # 500\n",
    "device = \"cuda:0\"\n",
    "n_classes = 10\n",
    "n_domains = 4\n",
    "n_feat = 128 # 128 ok, 256 better (but slower)\n",
    "lrate = 1e-4\n",
    "save_model = False\n",
    "save_dir = './data/diffusion_outputs10/'\n",
    "ws_test = [0.0, 0.5, 2.0] # strength of generative guidance\n",
    "\n",
    "in_channels = 3 #1\n",
    "ddpm = DDPM(nn_model=ContextUnet(in_channels=in_channels, n_feat=n_feat, n_classes=n_classes, n_domains=n_domains), betas=(1e-4, 0.02), n_T=n_T, device=device, drop_prob=0.1)\n",
    "ddpm.to(device)\n",
    "\n",
    "# optionally load a model\n",
    "# ddpm.load_state_dict(torch.load(\"./data/diffusion_outputs/ddpm_unet01_mnist_9.pth\"))\n",
    "\n",
    "#tf = transforms.Compose([transforms.ToTensor()]) # mnist is already normalised 0 to 1\n",
    "tf = tf = transforms.Compose([transforms.Resize(28), transforms.ToTensor()]) \n",
    "#dataset = MNIST(\"./data\", train=True, download=True, transform=tf)\n",
    "\n",
    "#dataset = SVHN(\"../data\", train=True, download=False, transform=tf)\n",
    "#dataset = SVHN(\"/data/medical_images/ahn/DA_Infer/mnist_raw/\", train=True, download=False, transform=tf)\n",
    "#dataset = MNIST_like(\"../data/\", dataset=\"SVHN\", train=True, download=False, transform=tf)\n",
    "\n",
    "#dataset = MNIST(\"/data/medical_images/ahn/DA_Infer/mnist_raw/\", train=True, download=False, transform=tf)\n",
    "dataset = torch.utils.data.ConcatDataset([MNIST_like(\"../data/\", dataset=dataset_name, train=True, download=False, transform=tf) for dataset_name in dataset_names])\n",
    "#dataset = torch.utils.data.Subset(dataset, np.random.choice(range(len(dataset)), size=100, replace=False))\n",
    "dataloader = DataLoader(dataset, batch_size=batch_size, shuffle=True, num_workers=5)\n",
    "optim = torch.optim.Adam(ddpm.parameters(), lr=lrate)\n",
    "\n",
    "for ep in range(n_epoch):\n",
    "    print(f'epoch {ep}')\n",
    "    ddpm.train()\n",
    "\n",
    "    # linear lrate decay\n",
    "    optim.param_groups[0]['lr'] = lrate*(1-ep/n_epoch)\n",
    "\n",
    "    pbar = tqdm(dataloader)\n",
    "    loss_ema = None\n",
    "    for x, c in pbar:\n",
    "        optim.zero_grad()\n",
    "        x = x.to(device)\n",
    "        c = c.to(device)\n",
    "        break\n",
    "    break"
   ]
  },
  {
   "cell_type": "code",
   "execution_count": null,
   "id": "95958b60-eba0-4851-98f1-c8548d75c330",
   "metadata": {},
   "outputs": [],
   "source": [
    "from PIL import Image\n",
    "import matplotlib.pyplot as plt\n",
    "from matplotlib.pyplot import figure\n",
    "\n",
    "figure(figsize=(30, 10), dpi=80)\n",
    "count = 0\n",
    "plots = 5\n",
    "start, end = 10, 50\n",
    "for i in range(start, end):\n",
    "    plt.subplot(1, plots, count+1)\n",
    "    plt.axis('off')\n",
    "\n",
    "    img = x[i].detach().cpu().numpy().transpose(1, 2, 0)\n",
    "\n",
    "    img = (img - img.min())/(img.max() - img.min())\n",
    "    plt.title((c[i].detach().cpu().numpy(), d[i].detach().cpu().numpy()), fontsize=30)\n",
    "    plt.imshow(img)\n",
    "    count+=1\n",
    "    if(count==plots):\n",
    "        plt.show()\n",
    "        figure(figsize=(50, 10), dpi=80)\n",
    "        count=0\n",
    "plt.show()"
   ]
  },
  {
   "cell_type": "code",
   "execution_count": null,
   "id": "5690c62d-c0b2-4a32-8603-b4b0db1a9cf3",
   "metadata": {},
   "outputs": [],
   "source": [
    "c"
   ]
  },
  {
   "cell_type": "code",
   "execution_count": null,
   "id": "8968053b-b3d0-47b7-ba6b-1d2571d72b7b",
   "metadata": {},
   "outputs": [],
   "source": []
  }
 ],
 "metadata": {
  "kernelspec": {
   "display_name": "Python 3 (ipykernel)",
   "language": "python",
   "name": "python3"
  },
  "language_info": {
   "codemirror_mode": {
    "name": "ipython",
    "version": 3
   },
   "file_extension": ".py",
   "mimetype": "text/x-python",
   "name": "python",
   "nbconvert_exporter": "python",
   "pygments_lexer": "ipython3",
   "version": "3.11.4"
  }
 },
 "nbformat": 4,
 "nbformat_minor": 5
}
