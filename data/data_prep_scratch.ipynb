{
 "cells": [
  {
   "cell_type": "code",
   "execution_count": 5,
   "id": "5d47ea91-e2b2-4fe4-a7c2-3db907bd6baa",
   "metadata": {},
   "outputs": [],
   "source": [
    "import gdown\n",
    "import torchvision\n",
    "import os\n",
    "import numpy as np\n",
    "import torch\n",
    "\n",
    "\n",
    "os.environ[\"http_proxy\"] = \"http://proxy.cmu.edu:3128\"\n",
    "os.environ[\"https_proxy\"] = \"http://proxy.cmu.edu:3128\"\n",
    "\n",
    "data_directory = \"/data/medical_images/ahn/DA_Infer\"\n",
    "os.chdir(data_directory)\n",
    "\n",
    "url = \"https://drive.google.com/drive/folders/1yneOon1U5U8FjZNMXKUTtH6V5kp7DKAo?usp=drive_link\"\n",
    "#gdown.download_folder(url, quiet=False)"
   ]
  },
  {
   "cell_type": "code",
   "execution_count": 12,
   "id": "5f9e5055-096a-4328-a99f-2605f1e01fe7",
   "metadata": {},
   "outputs": [
    {
     "name": "stderr",
     "output_type": "stream",
     "text": [
      "Downloading...\n",
      "From: https://drive.google.com/uc?id=1OVRBgC9ifHErS0yt0EMAxREdBjXBaXEj\n",
      "To: /data/medical_images/ahn/DA_Infer/digits/syn_digits/SYN_DIGITS_train.pt\n",
      "100%|████████████████████████████████████████████████████████████████████████████████████████████████████████████████████████████████████| 2.15G/2.15G [00:32<00:00, 65.7MB/s]\n",
      "Downloading...\n",
      "From: https://drive.google.com/uc?id=1acZmCqLFACAVXHjdOOzUZUxxog026yb9\n",
      "To: /data/medical_images/ahn/DA_Infer/digits/syn_digits/SYN_DIGITS_test.pt\n",
      "100%|████████████████████████████████████████████████████████████████████████████████████████████████████████████████████████████████████| 43.0M/43.0M [00:00<00:00, 48.5MB/s]\n"
     ]
    },
    {
     "data": {
      "text/plain": [
       "'/data/medical_images/ahn/DA_Infer/digits/syn_digits/SYN_DIGITS_test.pt'"
      ]
     },
     "execution_count": 12,
     "metadata": {},
     "output_type": "execute_result"
    }
   ],
   "source": [
    "### Force Download the Bigger Version of Syn Digits ###\n",
    "syn_train_pt = \"https://drive.google.com/uc?id=1OVRBgC9ifHErS0yt0EMAxREdBjXBaXEj\"\n",
    "#gdown.download(syn_train_pt, output= os.path.join(data_directory, \"digits/syn_digits/SYN_DIGITS_train.pt\"), quiet=False)\n",
    "\n",
    "syn_test_pt = \"https://drive.google.com/uc?id=1acZmCqLFACAVXHjdOOzUZUxxog026yb9\"\n",
    "#gdown.download(syn_test_pt, output= os.path.join(data_directory, \"digits/syn_digits/SYN_DIGITS_test.pt\"), quiet=False)"
   ]
  },
  {
   "cell_type": "code",
   "execution_count": 18,
   "id": "aec0bd19-96ad-4c91-956e-b6403490a05f",
   "metadata": {},
   "outputs": [],
   "source": [
    "data_directory_mnist_raw = \"/data/medical_images/ahn/DA_Infer/mnist_raw\"\n",
    "\n",
    "train_dataset = torchvision.datasets.MNIST(data_directory_mnist_raw, train=True, target_transform=None, download=True, transform=None)\n",
    "test_dataset = torchvision.datasets.MNIST(data_directory_mnist_raw, train=False, target_transform=None, download=True, transform=None)\n",
    "\n",
    "train_data = np.array(torchvision.transforms.Resize(32)(train_dataset.data))\n",
    "train_data = np.repeat(train_data[:,:,:,np.newaxis], 3, axis=3)\n",
    "train_labels = np.array(train_dataset.train_labels)\n",
    "\n",
    "test_data = np.array(torchvision.transforms.Resize(32)(test_dataset.data))\n",
    "test_data = np.repeat(test_data[:,:,:,np.newaxis], 3, axis=3)\n",
    "test_labels = np.array(test_dataset.test_labels)\n",
    "\n",
    "torch.save((train_data, train_labels), os.path.join(data_directory, \"digits/mnist\",\"MNIST_train.pt\"))\n",
    "torch.save((train_data, train_labels), os.path.join(data_directory, \"digits/mnist\",\"MNIST_test.pt\"))"
   ]
  },
  {
   "cell_type": "code",
   "execution_count": 20,
   "id": "e1ee8978-4365-40bd-a33e-c256237942c1",
   "metadata": {},
   "outputs": [],
   "source": [
    "code_directory = \"/home/pdsouzar/DA_Infer/data\"\n",
    "os.chdir(code_directory)\n",
    "\n",
    "#!ln -sf /data/medical_images/ahn/DA_Infer/digits/mnist mnist\n",
    "#!ln -sf /data/medical_images/ahn/DA_Infer/digits/mnist_m mnist_m\n",
    "#!ln -sf /data/medical_images/ahn/DA_Infer/digits/svhn svhn\n",
    "#!ln -sf /data/medical_images/ahn/DA_Infer/digits/syn_digits syn_digits"
   ]
  }
 ],
 "metadata": {
  "kernelspec": {
   "display_name": "Python 3 (ipykernel)",
   "language": "python",
   "name": "python3"
  },
  "language_info": {
   "codemirror_mode": {
    "name": "ipython",
    "version": 3
   },
   "file_extension": ".py",
   "mimetype": "text/x-python",
   "name": "python",
   "nbconvert_exporter": "python",
   "pygments_lexer": "ipython3",
   "version": "3.11.4"
  }
 },
 "nbformat": 4,
 "nbformat_minor": 5
}
